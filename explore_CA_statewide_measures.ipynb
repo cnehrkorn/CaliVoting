{
 "cells": [
  {
   "cell_type": "code",
   "execution_count": 1,
   "metadata": {
    "collapsed": true
   },
   "outputs": [],
   "source": [
    "import glob\n",
    "import os\n",
    "import pandas as pd\n",
    "import re\n",
    "import numpy as np\n",
    "import matplotlib as mpl\n",
    "import matplotlib.pyplot as plt\n",
    "from datetime import date, timedelta, datetime\n",
    "import sklearn.preprocessing as preproc\n",
    "import sklearn.linear_model as lm\n",
    "import sklearn.pipeline\n",
    "from scipy.optimize import least_squares\n",
    "from IPython.display import Image\n",
    "%matplotlib inline"
   ]
  },
  {
   "cell_type": "code",
   "execution_count": 2,
   "metadata": {
    "collapsed": true
   },
   "outputs": [],
   "source": [
    "def load_registration_data(path = 'data/SOS/processed/voter-registration.csv'):\n",
    "    df = pd.read_csv(path,header=[0,1],index_col=[0,1])\n",
    "    dtIdx = pd.DatetimeIndex(df.columns.get_level_values(0))\n",
    "    col_mIdx = pd.MultiIndex.from_arrays([dtIdx,df.columns.get_level_values(1)])\n",
    "    df.columns = col_mIdx\n",
    "    df.sort_index(inplace=True,axis=1,level=[0,1])\n",
    "    df.sort_index(axis=1,level=[0,1],inplace=True)\n",
    "    df.sort_index(axis=0,level=[0,1],inplace=True)\n",
    "    # impute (by eye for now) the value for a spurious entry\n",
    "    idx = pd.IndexSlice\n",
    "    df.loc[idx['Lake','Count'],idx['2008-04-04','Eligible']] = 46490\n",
    "    df.loc[idx['Lake','Fraction'],idx['2008-04-04','Total Registered']] = (\n",
    "        df.loc[idx['Lake','Count'],idx['2008-04-04','Total Registered']].values / \n",
    "        df.loc[idx['Lake','Count'],idx['2008-04-04','Eligible']].values)\n",
    "    return df\n",
    "\n",
    "def load_prop_data(path = 'data/SOS/processed/measures.csv'):\n",
    "    df = pd.read_csv(path,header=[0,1,2],index_col=0)\n",
    "    dtIdx = pd.DatetimeIndex(df.columns.get_level_values(0))\n",
    "    col_mIdx = pd.MultiIndex.from_arrays([dtIdx,df.columns.get_level_values(1),df.columns.get_level_values(2)])\n",
    "    df.columns = col_mIdx\n",
    "    df.sort_index(inplace=True,axis=1,level=[0,1])\n",
    "    return df\n",
    "\n",
    "def load_prop_metadata(path = 'data/SOS/processed/measures_metadata.csv'):\n",
    "    df = pd.read_csv(path,header=0,index_col=[0,1])\n",
    "    dtIdx = pd.DatetimeIndex(df.index.get_level_values(0))\n",
    "    row_mIdx = pd.MultiIndex.from_arrays([dtIdx,df.index.get_level_values(1)])\n",
    "    df.index = row_mIdx\n",
    "    df.sort_index(inplace=True,axis=0)\n",
    "    return df"
   ]
  },
  {
   "cell_type": "code",
   "execution_count": 3,
   "metadata": {
    "collapsed": true
   },
   "outputs": [],
   "source": [
    "df_reg = load_registration_data()\n",
    "df_prop = load_prop_data()\n",
    "df_prop_meta = load_prop_metadata()"
   ]
  },
  {
   "cell_type": "code",
   "execution_count": 4,
   "metadata": {},
   "outputs": [
    {
     "data": {
      "text/plain": [
       "<matplotlib.legend.Legend at 0x11428a828>"
      ]
     },
     "execution_count": 4,
     "metadata": {},
     "output_type": "execute_result"
    },
    {
     "data": {
      "image/png": "[encoded data removed]",
      "text/plain": [
       "<matplotlib.figure.Figure at 0x1142089e8>"
      ]
     },
     "metadata": {},
     "output_type": "display_data"
    }
   ],
   "source": [
    "idx = pd.IndexSlice\n",
    "county = 'State Total'\n",
    "elg_vs_time = df_reg.loc[idx[county,'Count'],idx[:,'Eligible']]\n",
    "reg_vs_time = df_reg.loc[idx[county,'Count'],idx[:,'Total Registered']]\n",
    "dem_vs_time = df_reg.loc[idx[county,'Count'],idx[:,'Democratic']]\n",
    "rep_vs_time = df_reg.loc[idx[county,'Count'],idx[:,'Republican']]\n",
    "grn_vs_time = df_reg.loc[idx[county,'Count'],idx[:,'Green']]\n",
    "npp_vs_time = df_reg.loc[idx[county,'Count'],idx[:,'No Party Preference']]\n",
    "x = elg_vs_time.index.get_level_values('Date')\n",
    "y = elg_vs_time.values\n",
    "plt.plot(x,y,label='Eligible')\n",
    "y = reg_vs_time.values\n",
    "plt.plot(x,y,label='Registered')\n",
    "y = dem_vs_time.values\n",
    "plt.plot(x,y,label='Democratic')\n",
    "y = rep_vs_time.values\n",
    "plt.plot(x,y,label='Republican')\n",
    "# y = grn_vs_time.values\n",
    "# plt.plot(x,y,label='Green')\n",
    "y = npp_vs_time.values\n",
    "plt.plot(x,y,label='No Party Preference')\n",
    "plt.ylim(0,1.1*max(elg_vs_time.values))\n",
    "plt.legend()"
   ]
  },
  {
   "cell_type": "code",
   "execution_count": 5,
   "metadata": {
    "scrolled": true
   },
   "outputs": [],
   "source": [
    "# date lookup table\n",
    "df_prop_meta['nearest_reg_date']= np.nan # initialize column\n",
    "\n",
    "# for all prop election dates, find closest (prior) voter registration dataset\n",
    "for prop_date in df_prop_meta.index.levels[0]:\n",
    "    reg_dates = df_reg.columns.levels[0]\n",
    "    reg_dates_delta = pd.Series(prop_date - reg_dates, index=reg_dates)\n",
    "    idx_closest_before = reg_dates_delta[reg_dates_delta>pd.to_timedelta(0)].idxmin()\n",
    "    # add to metadata table\n",
    "    df_prop_meta.loc[prop_date,'nearest_reg_date'] = idx_closest_before\n",
    "    #print('\\nProp date:',prop_date)\n",
    "    #print('Registration info date:',idx_closest_before)\n",
    "    #print('Diff:',reg_dates_delta[idx_closest_before])\n"
   ]
  },
  {
   "cell_type": "code",
   "execution_count": 6,
   "metadata": {
    "collapsed": true
   },
   "outputs": [],
   "source": [
    "idx = pd.IndexSlice\n",
    "df_prop_meta['R2'] = np.nan\n",
    "df_prop_meta['std'] = np.nan\n",
    "df_prop_meta['outliers'] = np.nan\n",
    "df_prop_meta['num_outliers'] = np.nan"
   ]
  },
  {
   "cell_type": "code",
   "execution_count": 7,
   "metadata": {
    "scrolled": true
   },
   "outputs": [
    {
     "name": "stderr",
     "output_type": "stream",
     "text": [
      "/opt/local/Library/Frameworks/Python.framework/Versions/3.4/lib/python3.4/site-packages/scipy/linalg/basic.py:1018: RuntimeWarning: internal gelsd driver lwork query error, required iwork dimension not returned. This is likely the result of LAPACK bug 0038, fixed in LAPACK 3.2.2 (released July 21, 2010). Falling back to 'gelss' driver.\n",
      "  warnings.warn(mesg, RuntimeWarning)\n"
     ]
    },
    {
     "ename": "NameError",
     "evalue": "name 'resid' is not defined",
     "output_type": "error",
     "traceback": [
      "\u001b[0;31m---------------------------------------------------------------------------\u001b[0m",
      "\u001b[0;31mNameError\u001b[0m                                 Traceback (most recent call last)",
      "\u001b[0;32m<ipython-input-7-c01a1a3336bc>\u001b[0m in \u001b[0;36m<module>\u001b[0;34m()\u001b[0m\n\u001b[1;32m     39\u001b[0m     \u001b[0mR2\u001b[0m \u001b[0;34m=\u001b[0m \u001b[0mmodel_OLS\u001b[0m\u001b[0;34m.\u001b[0m\u001b[0mscore\u001b[0m\u001b[0;34m(\u001b[0m\u001b[0mrep_dem_asym\u001b[0m\u001b[0;34m.\u001b[0m\u001b[0mvalues\u001b[0m\u001b[0;34m.\u001b[0m\u001b[0mreshape\u001b[0m\u001b[0;34m(\u001b[0m\u001b[0;34m-\u001b[0m\u001b[0;36m1\u001b[0m\u001b[0;34m,\u001b[0m\u001b[0;36m1\u001b[0m\u001b[0;34m)\u001b[0m\u001b[0;34m,\u001b[0m\u001b[0myes_no_asym\u001b[0m\u001b[0;34m)\u001b[0m\u001b[0;34m\u001b[0m\u001b[0m\n\u001b[1;32m     40\u001b[0m     \u001b[0mdf_prop_meta\u001b[0m\u001b[0;34m.\u001b[0m\u001b[0mloc\u001b[0m\u001b[0;34m[\u001b[0m\u001b[0midx\u001b[0m\u001b[0;34m[\u001b[0m\u001b[0mprop_date\u001b[0m\u001b[0;34m,\u001b[0m\u001b[0mprop_name\u001b[0m\u001b[0;34m]\u001b[0m\u001b[0;34m,\u001b[0m\u001b[0;34m'R2'\u001b[0m\u001b[0;34m]\u001b[0m \u001b[0;34m=\u001b[0m \u001b[0mR2\u001b[0m\u001b[0;34m\u001b[0m\u001b[0m\n\u001b[0;32m---> 41\u001b[0;31m     \u001b[0mresid_standardized\u001b[0m \u001b[0;34m=\u001b[0m \u001b[0mpd\u001b[0m\u001b[0;34m.\u001b[0m\u001b[0mSeries\u001b[0m\u001b[0;34m(\u001b[0m\u001b[0mpreproc\u001b[0m\u001b[0;34m.\u001b[0m\u001b[0mscale\u001b[0m\u001b[0;34m(\u001b[0m\u001b[0mresid\u001b[0m\u001b[0;34m)\u001b[0m\u001b[0;34m,\u001b[0m\u001b[0mindex\u001b[0m \u001b[0;34m=\u001b[0m \u001b[0mresid\u001b[0m\u001b[0;34m.\u001b[0m\u001b[0mindex\u001b[0m\u001b[0;34m)\u001b[0m\u001b[0;34m\u001b[0m\u001b[0m\n\u001b[0m\u001b[1;32m     42\u001b[0m     \u001b[0mresid_standardized\u001b[0m\u001b[0;34m[\u001b[0m\u001b[0;34m'State Totals'\u001b[0m\u001b[0;34m]\u001b[0m \u001b[0;34m=\u001b[0m \u001b[0;36m0\u001b[0m\u001b[0;34m\u001b[0m\u001b[0m\n\u001b[1;32m     43\u001b[0m     \u001b[0mdf_prop\u001b[0m\u001b[0;34m.\u001b[0m\u001b[0mloc\u001b[0m\u001b[0;34m[\u001b[0m\u001b[0;34m:\u001b[0m\u001b[0;34m,\u001b[0m\u001b[0midx\u001b[0m\u001b[0;34m[\u001b[0m\u001b[0mprop_date\u001b[0m\u001b[0;34m,\u001b[0m\u001b[0mprop_name\u001b[0m\u001b[0;34m,\u001b[0m\u001b[0;34m'residual'\u001b[0m\u001b[0;34m]\u001b[0m\u001b[0;34m]\u001b[0m \u001b[0;34m=\u001b[0m \u001b[0mresid_standardized\u001b[0m\u001b[0;34m\u001b[0m\u001b[0m\n",
      "\u001b[0;31mNameError\u001b[0m: name 'resid' is not defined"
     ]
    }
   ],
   "source": [
    "for ii in range(len(df_prop_meta)):\n",
    "    if ii != 125: continue\n",
    "    meta_row = df_prop_meta.iloc[ii]\n",
    "\n",
    "\n",
    "    # get the proposition metadata\n",
    "    prop_descr  = meta_row['Description']\n",
    "    prop_date = meta_row.name[0]\n",
    "    prop_name = meta_row.name[1]\n",
    "    elec_type = meta_row['Election_type']\n",
    "    reg_date = meta_row['nearest_reg_date']\n",
    "\n",
    "    # grab the voter registration data and proposition voting results\n",
    "    # make sure to drop the state results rows for plots and calcs\n",
    "    vote_yes = df_prop.loc[df_prop.index != 'State Totals',idx[prop_date,prop_name,'Yes']]\n",
    "    vote_no = df_prop.loc[df_prop.index != 'State Totals',idx[prop_date,prop_name,'No']]\n",
    "    yes_no_asym = (vote_yes-vote_no)/(vote_yes+vote_no)\n",
    "    reg_dem = df_reg.loc[idx[:,'Count'],idx[reg_date,'Democratic']].drop('State Total')\n",
    "    reg_rep = df_reg.loc[idx[:,'Count'],idx[reg_date,'Republican']].drop('State Total')\n",
    "    rep_dem_asym = (reg_rep-reg_dem)/(reg_rep+reg_dem)\n",
    "    reg_frac = df_reg.loc[idx[:,'Fraction'],idx[reg_date,'Total Registered']].drop('State Total')\n",
    "    reg_tot = df_reg.loc[idx[:,'Count'],idx[reg_date,'Total Registered']].drop('State Total')\n",
    "    elg_tot = df_reg.loc[idx[:,'Count'],idx[reg_date,'Eligible']].drop('State Total')\n",
    "    elg_norm = 1+(elg_tot - elg_tot.min())/ (elg_tot.max()-elg_tot.min())\n",
    "    non_trad_party = (reg_tot - (reg_dem + reg_rep))/reg_tot\n",
    "    vote_yes_state = df_prop.loc['State Totals',idx[prop_date,prop_name,'Yes']]\n",
    "    vote_no_state = df_prop.loc['State Totals',idx[prop_date,prop_name,'No']]\n",
    "    yes_no_asym_state = (vote_yes_state-vote_no_state)/(vote_yes_state+vote_no_state)\n",
    "    reg_dem_state = df_reg.loc[idx['State Total','Count'],idx[reg_date,'Democratic']]\n",
    "    reg_rep_state = df_reg.loc[idx['State Total','Count'],idx[reg_date,'Republican']]\n",
    "    rep_dem_asym_state = (reg_rep_state-reg_dem_state)/(reg_rep_state+reg_dem_state)\n",
    "    df_prop_meta.loc[idx[prop_date,prop_name],'std'] = yes_no_asym.std()\n",
    "    \n",
    "    # fit a line\n",
    "    model_OLS = lm.LinearRegression()\n",
    "    model_OLS.fit(rep_dem_asym.values.reshape(-1,1),yes_no_asym)\n",
    "    X_line = np.linspace(1.1*rep_dem_asym.min(),1.1*rep_dem_asym.max(),num=20).reshape(-1,1)\n",
    "    y_OLS = model_OLS.predict(X_line)\n",
    "    R2 = model_OLS.score(rep_dem_asym.values.reshape(-1,1),yes_no_asym)\n",
    "    df_prop_meta.loc[idx[prop_date,prop_name],'R2'] = R2\n",
    "    resid_standardized = pd.Series(preproc.scale(resid),index = resid.index)\n",
    "    resid_standardized['State Totals'] = 0\n",
    "    df_prop.loc[:,idx[prop_date,prop_name,'residual']] = resid_standardized\n",
    "    \n",
    "    # find oultliers using interquartile range of the residuals distribution\n",
    "    resid = yes_no_asym - model_OLS.predict(rep_dem_asym.values.reshape(-1,1))\n",
    "    Q1, Q3 = np.percentile(resid,[25,75])\n",
    "    IQR = Q3 - Q1\n",
    "    lo_thresh, hi_thresh = Q1 - 1.5*IQR, Q3 + 1.5*IQR\n",
    "    is_outlier = (resid < lo_thresh) | (resid > hi_thresh)\n",
    "    edgecolors = np.array(['k']*len(is_outlier))\n",
    "    edgecolors[is_outlier.values] = 'r'\n",
    "    outliers = is_outlier[is_outlier].index.values\n",
    "    outliers_str = ', '.join([outlier for outlier in outliers])\n",
    "    df_prop_meta.loc[idx[prop_date,prop_name],'outliers'] = outliers_str\n",
    "    df_prop_meta.loc[idx[prop_date,prop_name],'num_outliers'] = len(outliers)\n",
    "    is_outlier['State Totals'] = False\n",
    "    df_prop.loc[:,idx[prop_date,prop_name,'is_outlier']] = is_outlier\n",
    "    \n",
    "    \n",
    "    # show the line and scatter-plot\n",
    "    plt.figure(figsize=(5, 4), dpi= 300)\n",
    "    plt.plot(X_line,y_OLS,alpha=0.7,color='k')\n",
    "    plt.plot(X_line,y_OLS+Q3+1.5*IQR,alpha=0.7,color='grey',linestyle='--')\n",
    "    plt.plot(X_line,y_OLS+Q1-1.5*IQR,alpha=0.7,color='grey',linestyle='--')\n",
    "    plt.plot([-1,1],[yes_no_asym_state]*2,alpha=0.3,color='blue',linestyle='--')\n",
    "    h_scatter = plt.scatter(rep_dem_asym,yes_no_asym,marker='o',c=non_trad_party,s=40*elg_norm**4,\n",
    "                cmap=plt.get_cmap('Purples'),alpha=0.7,edgecolor=edgecolors)\n",
    "    plt.scatter(rep_dem_asym_state, yes_no_asym_state, c='blue', marker='+')\n",
    "    plt.title(str(prop_date.year) + ': ' + prop_name + '\\n' + prop_descr)\n",
    "    plt.xlabel('<---Dem            Rep--->')\n",
    "    plt.ylabel('<---No         Yes--->')\n",
    "    if len(outliers) > 0:\n",
    "        text_str = '$R^2 = ${:.2f}\\noutliers = {:s}'.format(R2,outliers_str)\n",
    "    else:\n",
    "        text_str = '$R^2 = ${:.2f}'.format(R2)\n",
    "    plt.text(x=.95,y=.95,s=text_str,ha='right',va='top')\n",
    "    plt.xlim([-1,1])\n",
    "    plt.ylim([-1,1])\n",
    "    cbar = plt.colorbar(mappable=h_scatter,pad=0.02)\n",
    "    cbar.ax.set_ylabel('Fraction of registered voters in non-Dem,Rep party')\n",
    "    #plt.savefig('plots/'+str(prop_date.year)+'-'+prop_name+'.pdf')\n",
    "    #plt.clf()\n",
    "    \n",
    "df_prop.sort_index(axis=1,level=[0,1,2],inplace=True)\n",
    "df_prop_meta.sort_index(axis=1,level=1,inplace=True)"
   ]
  },
  {
   "cell_type": "code",
   "execution_count": null,
   "metadata": {},
   "outputs": [],
   "source": [
    "x = df_prop_meta.index.get_level_values(0)\n",
    "#x = df_prop_meta['std']\n",
    "y = df_prop_meta['R2']\n",
    "plt.scatter(x,y)\n",
    "df_prop_meta.query('std > .3')"
   ]
  },
  {
   "cell_type": "code",
   "execution_count": null,
   "metadata": {},
   "outputs": [],
   "source": [
    "df_prop_meta.query('R2 < .15')"
   ]
  },
  {
   "cell_type": "code",
   "execution_count": null,
   "metadata": {},
   "outputs": [],
   "source": [
    "df_prop_meta['Descr_has_tax'] = df_prop_meta['Description'].map(lambda x: 'Tax' in x or 'tax' in x)\n",
    "x1 = df_prop_meta.loc[df_prop_meta['Descr_has_tax'],'std']\n",
    "y1 = df_prop_meta.loc[df_prop_meta['Descr_has_tax'],'R2']\n",
    "x2 = df_prop_meta.loc[~df_prop_meta['Descr_has_tax'],'std']\n",
    "y2 = df_prop_meta.loc[~df_prop_meta['Descr_has_tax'],'R2']\n",
    "plt.scatter(x1,y1,alpha=0.8)\n",
    "plt.scatter(x2,y2,alpha=0.5)\n"
   ]
  },
  {
   "cell_type": "code",
   "execution_count": null,
   "metadata": {},
   "outputs": [],
   "source": [
    "df_prop_meta['Descr_has_school'] = df_prop_meta['Description'].map(lambda x:\n",
    "                                                                   'school' in x or\n",
    "                                                                   'School' in x or\n",
    "                                                                   'education' in x or\n",
    "                                                                   'Education' in x or \n",
    "                                                                   'College' in x or \n",
    "                                                                   'college' in x or \n",
    "                                                                   'universit' in x or \n",
    "                                                                   'Universit' in x)\n",
    "x1 = df_prop_meta.loc[df_prop_meta['Descr_has_school'],'std']\n",
    "y1 = df_prop_meta.loc[df_prop_meta['Descr_has_school'],'R2']\n",
    "x2 = df_prop_meta.loc[~df_prop_meta['Descr_has_school'],'std']\n",
    "y2 = df_prop_meta.loc[~df_prop_meta['Descr_has_school'],'R2']\n",
    "plt.scatter(x1,y1,alpha=0.8)\n",
    "plt.scatter(x2,y2,alpha=0.5)"
   ]
  },
  {
   "cell_type": "code",
   "execution_count": null,
   "metadata": {},
   "outputs": [],
   "source": [
    "df_prop_meta['Descr_has_water'] = df_prop_meta['Description'].map(lambda x:\n",
    "                                                                       'Water' in x or\n",
    "                                                                       'water' in x)\n",
    "x1 = df_prop_meta.loc[df_prop_meta['Descr_has_water'],'std']\n",
    "y1 = df_prop_meta.loc[df_prop_meta['Descr_has_water'],'R2']\n",
    "x2 = df_prop_meta.loc[~df_prop_meta['Descr_has_water'],'std']\n",
    "y2 = df_prop_meta.loc[~df_prop_meta['Descr_has_water'],'R2']\n",
    "plt.scatter(x1,y1,alpha=0.8)\n",
    "plt.scatter(x2,y2,alpha=0.5)"
   ]
  },
  {
   "cell_type": "code",
   "execution_count": null,
   "metadata": {},
   "outputs": [],
   "source": [
    "df_prop_meta['Descr_has_gun'] = df_prop_meta['Description'].map(lambda x:\n",
    "                                                                       'Gun' in x or\n",
    "                                                                       'gun' in x or\n",
    "                                                                   'firearm' in x or\n",
    "                                                                   'Firearm' in x or\n",
    "                                                                    'Weapon' in x or\n",
    "                                                                    'weapon' in x)\n",
    "x1 = df_prop_meta.loc[df_prop_meta['Descr_has_gun'],'std']\n",
    "y1 = df_prop_meta.loc[df_prop_meta['Descr_has_gun'],'R2']\n",
    "x2 = df_prop_meta.loc[~df_prop_meta['Descr_has_gun'],'std']\n",
    "y2 = df_prop_meta.loc[~df_prop_meta['Descr_has_gun'],'R2']\n",
    "plt.scatter(x1,y1,alpha=0.8)\n",
    "plt.scatter(x2,y2,alpha=0.5)"
   ]
  },
  {
   "cell_type": "code",
   "execution_count": null,
   "metadata": {},
   "outputs": [],
   "source": [
    "plt.figure(figsize=(10, 12))\n",
    "np.abs(df_prop.loc[df_prop.index != 'State Totals',\n",
    "                   idx[:,:,'residual']]).T.mean().sort_values(ascending=False).plot(kind='barh')"
   ]
  },
  {
   "cell_type": "code",
   "execution_count": null,
   "metadata": {},
   "outputs": [],
   "source": [
    "plt.figure(figsize=(10, 12))\n",
    "(df_prop.loc[df_prop.index != 'State Totals',idx[:,:,'is_outlier']]).T.sum().sort_values(ascending=False).plot(kind = 'barh')"
   ]
  },
  {
   "cell_type": "code",
   "execution_count": null,
   "metadata": {
    "collapsed": true
   },
   "outputs": [],
   "source": []
  }
 ],
 "metadata": {
  "kernelspec": {
   "display_name": "Python 3",
   "language": "python",
   "name": "python3"
  },
  "language_info": {
   "codemirror_mode": {
    "name": "ipython",
    "version": 3
   },
   "file_extension": ".py",
   "mimetype": "text/x-python",
   "name": "python",
   "nbconvert_exporter": "python",
   "pygments_lexer": "ipython3",
   "version": "3.4.7"
  }
 },
 "nbformat": 4,
 "nbformat_minor": 2
}
