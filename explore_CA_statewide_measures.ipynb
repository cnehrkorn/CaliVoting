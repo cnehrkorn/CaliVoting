{
 "cells": [
  {
   "cell_type": "code",
   "execution_count": 2,
   "metadata": {
    "collapsed": true
   },
   "outputs": [],
   "source": [
    "import glob\n",
    "import os\n",
    "import pandas as pd\n",
    "import re\n",
    "import numpy as np\n",
    "import matplotlib as mpl\n",
    "import matplotlib.pyplot as plt\n",
    "from datetime import date, timedelta, datetime\n",
    "import sklearn.preprocessing as preproc\n",
    "import sklearn.linear_model as lm\n",
    "import sklearn.pipeline\n",
    "from scipy.optimize import least_squares\n",
    "from IPython.display import Image\n",
    "%matplotlib inline"
   ]
  },
  {
   "cell_type": "code",
   "execution_count": 3,
   "metadata": {
    "collapsed": true
   },
   "outputs": [],
   "source": [
    "def load_registration_data(path = 'data/SOS/processed/voter-registration.csv'):\n",
    "    df = pd.read_csv(path,header=[0,1],index_col=[0,1])\n",
    "    dtIdx = pd.DatetimeIndex(df.columns.get_level_values(0))\n",
    "    col_mIdx = pd.MultiIndex.from_arrays([dtIdx,df.columns.get_level_values(1)])\n",
    "    df.columns = col_mIdx\n",
    "    df.sort_index(inplace=True,axis=1,level=[0,1])\n",
    "    df.sort_index(axis=1,level=[0,1],inplace=True)\n",
    "    df.sort_index(axis=0,level=[0,1],inplace=True)\n",
    "    # impute (by eye for now) the value for a spurious entry\n",
    "    idx = pd.IndexSlice\n",
    "    df.loc[idx['Lake','Count'],idx['2008-04-04','Eligible']] = 46490\n",
    "    df.loc[idx['Lake','Fraction'],idx['2008-04-04','Total Registered']] = (\n",
    "        df.loc[idx['Lake','Count'],idx['2008-04-04','Total Registered']].values / \n",
    "        df.loc[idx['Lake','Count'],idx['2008-04-04','Eligible']].values)\n",
    "    return df\n",
    "\n",
    "def load_prop_data(path = 'data/SOS/processed/measures.csv'):\n",
    "    df = pd.read_csv(path,header=[0,1,2],index_col=0)\n",
    "    dtIdx = pd.DatetimeIndex(df.columns.get_level_values(0))\n",
    "    col_mIdx = pd.MultiIndex.from_arrays([dtIdx,df.columns.get_level_values(1),df.columns.get_level_values(2)])\n",
    "    df.columns = col_mIdx\n",
    "    df.sort_index(inplace=True,axis=1,level=[0,1])\n",
    "    return df\n",
    "\n",
    "def load_prop_metadata(path = 'data/SOS/processed/measures_metadata.csv'):\n",
    "    df = pd.read_csv(path,header=0,index_col=[0,1])\n",
    "    dtIdx = pd.DatetimeIndex(df.index.get_level_values(0))\n",
    "    row_mIdx = pd.MultiIndex.from_arrays([dtIdx,df.index.get_level_values(1)])\n",
    "    df.index = row_mIdx\n",
    "    df.sort_index(inplace=True,axis=0)\n",
    "    return df"
   ]
  },
  {
   "cell_type": "code",
   "execution_count": 4,
   "metadata": {
    "collapsed": true
   },
   "outputs": [],
   "source": [
    "df_reg = load_registration_data()\n",
    "df_prop = load_prop_data()\n",
    "df_prop_meta = load_prop_metadata()"
   ]
  },
  {
   "cell_type": "code",
   "execution_count": 5,
   "metadata": {},
   "outputs": [
    {
     "data": {
      "text/plain": [
       "<matplotlib.legend.Legend at 0x10e92a0f0>"
      ]
     },
     "execution_count": 5,
     "metadata": {},
     "output_type": "execute_result"
    },
    {
     "data": {
      "image/png": "[encoded data removed]",
      "text/plain": [
       "<matplotlib.figure.Figure at 0x108b1aa20>"
      ]
     },
     "metadata": {},
     "output_type": "display_data"
    }
   ],
   "source": [
    "idx = pd.IndexSlice\n",
    "county = 'State Total'\n",
    "elg_vs_time = df_reg.loc[idx[county,'Count'],idx[:,'Eligible']]\n",
    "reg_vs_time = df_reg.loc[idx[county,'Count'],idx[:,'Total Registered']]\n",
    "dem_vs_time = df_reg.loc[idx[county,'Count'],idx[:,'Democratic']]\n",
    "rep_vs_time = df_reg.loc[idx[county,'Count'],idx[:,'Republican']]\n",
    "grn_vs_time = df_reg.loc[idx[county,'Count'],idx[:,'Green']]\n",
    "npp_vs_time = df_reg.loc[idx[county,'Count'],idx[:,'No Party Preference']]\n",
    "x = elg_vs_time.index.get_level_values('Date')\n",
    "y = elg_vs_time.values\n",
    "plt.plot(x,y,label='Eligible')\n",
    "y = reg_vs_time.values\n",
    "plt.plot(x,y,label='Registered')\n",
    "y = dem_vs_time.values\n",
    "plt.plot(x,y,label='Democratic')\n",
    "y = rep_vs_time.values\n",
    "plt.plot(x,y,label='Republican')\n",
    "# y = grn_vs_time.values\n",
    "# plt.plot(x,y,label='Green')\n",
    "y = npp_vs_time.values\n",
    "plt.plot(x,y,label='No Party Preference')\n",
    "plt.ylim(0,1.1*max(elg_vs_time.values))\n",
    "plt.legend()"
   ]
  },
  {
   "cell_type": "code",
   "execution_count": 6,
   "metadata": {
    "scrolled": true
   },
   "outputs": [],
   "source": [
    "# date lookup table\n",
    "df_prop_meta['nearest_reg_date']= np.nan # initialize column\n",
    "\n",
    "# for all prop election dates, find closest (prior) voter registration dataset\n",
    "for prop_date in df_prop_meta.index.levels[0]:\n",
    "    reg_dates = df_reg.columns.levels[0]\n",
    "    reg_dates_delta = pd.Series(prop_date - reg_dates, index=reg_dates)\n",
    "    idx_closest_before = reg_dates_delta[reg_dates_delta>pd.to_timedelta(0)].idxmin()\n",
    "    # add to metadata table\n",
    "    df_prop_meta.loc[prop_date,'nearest_reg_date'] = idx_closest_before\n",
    "    #print('\\nProp date:',prop_date)\n",
    "    #print('Registration info date:',idx_closest_before)\n",
    "    #print('Diff:',reg_dates_delta[idx_closest_before])\n"
   ]
  },
  {
   "cell_type": "code",
   "execution_count": 7,
   "metadata": {
    "collapsed": true
   },
   "outputs": [],
   "source": [
    "idx = pd.IndexSlice\n",
    "df_prop_meta['R2'] = np.nan\n",
    "df_prop_meta['std'] = np.nan\n",
    "df_prop_meta['outliers'] = np.nan\n",
    "df_prop_meta['num_outliers'] = np.nan"
   ]
  },
  {
   "cell_type": "code",
   "execution_count": 8,
   "metadata": {
    "scrolled": true
   },
   "outputs": [
    {
     "name": "stderr",
     "output_type": "stream",
     "text": [
      "/opt/local/Library/Frameworks/Python.framework/Versions/3.4/lib/python3.4/site-packages/scipy/linalg/basic.py:1018: RuntimeWarning: internal gelsd driver lwork query error, required iwork dimension not returned. This is likely the result of LAPACK bug 0038, fixed in LAPACK 3.2.2 (released July 21, 2010). Falling back to 'gelss' driver.\n",
      "  warnings.warn(mesg, RuntimeWarning)\n",
      "/opt/local/Library/Frameworks/Python.framework/Versions/3.4/lib/python3.4/site-packages/matplotlib/pyplot.py:524: RuntimeWarning: More than 20 figures have been opened. Figures created through the pyplot interface (`matplotlib.pyplot.figure`) are retained until explicitly closed and may consume too much memory. (To control this warning, see the rcParam `figure.max_open_warning`).\n",
      "  max_open_warning, RuntimeWarning)\n"
     ]
    },
    {
     "data": {
      "text/plain": [
       "<matplotlib.figure.Figure at 0x109fbc710>"
      ]
     },
     "metadata": {},
     "output_type": "display_data"
    },
    {
     "data": {
      "text/plain": [
       "<matplotlib.figure.Figure at 0x10eb8ca20>"
      ]
     },
     "metadata": {},
     "output_type": "display_data"
    },
    {
     "data": {
      "text/plain": [
       "<matplotlib.figure.Figure at 0x10f769d30>"
      ]
     },
     "metadata": {},
     "output_type": "display_data"
    },
    {
     "data": {
      "text/plain": [
       "<matplotlib.figure.Figure at 0x10f769a58>"
      ]
     },
     "metadata": {},
     "output_type": "display_data"
    },
    {
     "data": {
      "text/plain": [
       "<matplotlib.figure.Figure at 0x11035d4a8>"
      ]
     },
     "metadata": {},
     "output_type": "display_data"
    },
    {
     "data": {
      "text/plain": [
       "<matplotlib.figure.Figure at 0x110ea49b0>"
      ]
     },
     "metadata": {},
     "output_type": "display_data"
    },
    {
     "data": {
      "text/plain": [
       "<matplotlib.figure.Figure at 0x111ab1320>"
      ]
     },
     "metadata": {},
     "output_type": "display_data"
    },
    {
     "data": {
      "text/plain": [
       "<matplotlib.figure.Figure at 0x111a10208>"
      ]
     },
     "metadata": {},
     "output_type": "display_data"
    },
    {
     "data": {
      "text/plain": [
       "<matplotlib.figure.Figure at 0x110ee8518>"
      ]
     },
     "metadata": {},
     "output_type": "display_data"
    },
    {
     "data": {
      "text/plain": [
       "<matplotlib.figure.Figure at 0x11263f438>"
      ]
     },
     "metadata": {},
     "output_type": "display_data"
    },
    {
     "data": {
      "text/plain": [
       "<matplotlib.figure.Figure at 0x11263fcf8>"
      ]
     },
     "metadata": {},
     "output_type": "display_data"
    },
    {
     "data": {
      "text/plain": [
       "<matplotlib.figure.Figure at 0x110296fd0>"
      ]
     },
     "metadata": {},
     "output_type": "display_data"
    },
    {
     "data": {
      "text/plain": [
       "<matplotlib.figure.Figure at 0x10eadac50>"
      ]
     },
     "metadata": {},
     "output_type": "display_data"
    },
    {
     "data": {
      "text/plain": [
       "<matplotlib.figure.Figure at 0x110e970f0>"
      ]
     },
     "metadata": {},
     "output_type": "display_data"
    },
    {
     "data": {
      "text/plain": [
       "<matplotlib.figure.Figure at 0x1102961d0>"
      ]
     },
     "metadata": {},
     "output_type": "display_data"
    },
    {
     "data": {
      "text/plain": [
       "<matplotlib.figure.Figure at 0x110296da0>"
      ]
     },
     "metadata": {},
     "output_type": "display_data"
    },
    {
     "data": {
      "text/plain": [
       "<matplotlib.figure.Figure at 0x112643278>"
      ]
     },
     "metadata": {},
     "output_type": "display_data"
    },
    {
     "data": {
      "text/plain": [
       "<matplotlib.figure.Figure at 0x111a109e8>"
      ]
     },
     "metadata": {},
     "output_type": "display_data"
    },
    {
     "data": {
      "text/plain": [
       "<matplotlib.figure.Figure at 0x10eaf3470>"
      ]
     },
     "metadata": {},
     "output_type": "display_data"
    },
    {
     "data": {
      "text/plain": [
       "<matplotlib.figure.Figure at 0x111a0bb00>"
      ]
     },
     "metadata": {},
     "output_type": "display_data"
    },
    {
     "data": {
      "text/plain": [
       "<matplotlib.figure.Figure at 0x10f7b5208>"
      ]
     },
     "metadata": {},
     "output_type": "display_data"
    },
    {
     "data": {
      "text/plain": [
       "<matplotlib.figure.Figure at 0x110ee80f0>"
      ]
     },
     "metadata": {},
     "output_type": "display_data"
    },
    {
     "data": {
      "text/plain": [
       "<matplotlib.figure.Figure at 0x10eb7ce48>"
      ]
     },
     "metadata": {},
     "output_type": "display_data"
    },
    {
     "data": {
      "text/plain": [
       "<matplotlib.figure.Figure at 0x112639198>"
      ]
     },
     "metadata": {},
     "output_type": "display_data"
    },
    {
     "data": {
      "text/plain": [
       "<matplotlib.figure.Figure at 0x110e9f7b8>"
      ]
     },
     "metadata": {},
     "output_type": "display_data"
    },
    {
     "data": {
      "text/plain": [
       "<matplotlib.figure.Figure at 0x112603cf8>"
      ]
     },
     "metadata": {},
     "output_type": "display_data"
    },
    {
     "data": {
      "text/plain": [
       "<matplotlib.figure.Figure at 0x110e2b9b0>"
      ]
     },
     "metadata": {},
     "output_type": "display_data"
    },
    {
     "data": {
      "text/plain": [
       "<matplotlib.figure.Figure at 0x11d36f198>"
      ]
     },
     "metadata": {},
     "output_type": "display_data"
    },
    {
     "data": {
      "text/plain": [
       "<matplotlib.figure.Figure at 0x11198f128>"
      ]
     },
     "metadata": {},
     "output_type": "display_data"
    },
    {
     "data": {
      "text/plain": [
       "<matplotlib.figure.Figure at 0x10ea9ca58>"
      ]
     },
     "metadata": {},
     "output_type": "display_data"
    },
    {
     "data": {
      "text/plain": [
       "<matplotlib.figure.Figure at 0x10f7db358>"
      ]
     },
     "metadata": {},
     "output_type": "display_data"
    },
    {
     "data": {
      "text/plain": [
       "<matplotlib.figure.Figure at 0x10f7db400>"
      ]
     },
     "metadata": {},
     "output_type": "display_data"
    },
    {
     "data": {
      "text/plain": [
       "<matplotlib.figure.Figure at 0x111a2bf60>"
      ]
     },
     "metadata": {},
     "output_type": "display_data"
    },
    {
     "data": {
      "text/plain": [
       "<matplotlib.figure.Figure at 0x110276a20>"
      ]
     },
     "metadata": {},
     "output_type": "display_data"
    },
    {
     "data": {
      "text/plain": [
       "<matplotlib.figure.Figure at 0x111a2bc50>"
      ]
     },
     "metadata": {},
     "output_type": "display_data"
    },
    {
     "data": {
      "text/plain": [
       "<matplotlib.figure.Figure at 0x10eb8f438>"
      ]
     },
     "metadata": {},
     "output_type": "display_data"
    },
    {
     "data": {
      "text/plain": [
       "<matplotlib.figure.Figure at 0x112637470>"
      ]
     },
     "metadata": {},
     "output_type": "display_data"
    },
    {
     "data": {
      "text/plain": [
       "<matplotlib.figure.Figure at 0x112569d68>"
      ]
     },
     "metadata": {},
     "output_type": "display_data"
    },
    {
     "data": {
      "text/plain": [
       "<matplotlib.figure.Figure at 0x110e9f780>"
      ]
     },
     "metadata": {},
     "output_type": "display_data"
    },
    {
     "data": {
      "text/plain": [
       "<matplotlib.figure.Figure at 0x10eb29518>"
      ]
     },
     "metadata": {},
     "output_type": "display_data"
    },
    {
     "data": {
      "text/plain": [
       "<matplotlib.figure.Figure at 0x110345eb8>"
      ]
     },
     "metadata": {},
     "output_type": "display_data"
    },
    {
     "data": {
      "text/plain": [
       "<matplotlib.figure.Figure at 0x110345d30>"
      ]
     },
     "metadata": {},
     "output_type": "display_data"
    },
    {
     "data": {
      "text/plain": [
       "<matplotlib.figure.Figure at 0x10f780e48>"
      ]
     },
     "metadata": {},
     "output_type": "display_data"
    },
    {
     "data": {
      "text/plain": [
       "<matplotlib.figure.Figure at 0x110336da0>"
      ]
     },
     "metadata": {},
     "output_type": "display_data"
    },
    {
     "data": {
      "text/plain": [
       "<matplotlib.figure.Figure at 0x10eb47710>"
      ]
     },
     "metadata": {},
     "output_type": "display_data"
    },
    {
     "data": {
      "text/plain": [
       "<matplotlib.figure.Figure at 0x112665b00>"
      ]
     },
     "metadata": {},
     "output_type": "display_data"
    },
    {
     "data": {
      "text/plain": [
       "<matplotlib.figure.Figure at 0x10eaafa90>"
      ]
     },
     "metadata": {},
     "output_type": "display_data"
    },
    {
     "data": {
      "text/plain": [
       "<matplotlib.figure.Figure at 0x112629668>"
      ]
     },
     "metadata": {},
     "output_type": "display_data"
    },
    {
     "data": {
      "text/plain": [
       "<matplotlib.figure.Figure at 0x110ede3c8>"
      ]
     },
     "metadata": {},
     "output_type": "display_data"
    },
    {
     "data": {
      "text/plain": [
       "<matplotlib.figure.Figure at 0x110320fd0>"
      ]
     },
     "metadata": {},
     "output_type": "display_data"
    },
    {
     "data": {
      "text/plain": [
       "<matplotlib.figure.Figure at 0x10eb7f160>"
      ]
     },
     "metadata": {},
     "output_type": "display_data"
    },
    {
     "data": {
      "text/plain": [
       "<matplotlib.figure.Figure at 0x10e905278>"
      ]
     },
     "metadata": {},
     "output_type": "display_data"
    },
    {
     "data": {
      "text/plain": [
       "<matplotlib.figure.Figure at 0x10f7d2908>"
      ]
     },
     "metadata": {},
     "output_type": "display_data"
    },
    {
     "data": {
      "text/plain": [
       "<matplotlib.figure.Figure at 0x132331a58>"
      ]
     },
     "metadata": {},
     "output_type": "display_data"
    },
    {
     "data": {
      "text/plain": [
       "<matplotlib.figure.Figure at 0x10eb73d68>"
      ]
     },
     "metadata": {},
     "output_type": "display_data"
    },
    {
     "data": {
      "text/plain": [
       "<matplotlib.figure.Figure at 0x11c893978>"
      ]
     },
     "metadata": {},
     "output_type": "display_data"
    },
    {
     "data": {
      "text/plain": [
       "<matplotlib.figure.Figure at 0x1126550f0>"
      ]
     },
     "metadata": {},
     "output_type": "display_data"
    },
    {
     "data": {
      "text/plain": [
       "<matplotlib.figure.Figure at 0x10f6806a0>"
      ]
     },
     "metadata": {},
     "output_type": "display_data"
    },
    {
     "data": {
      "text/plain": [
       "<matplotlib.figure.Figure at 0x112665940>"
      ]
     },
     "metadata": {},
     "output_type": "display_data"
    },
    {
     "data": {
      "text/plain": [
       "<matplotlib.figure.Figure at 0x11d368588>"
      ]
     },
     "metadata": {},
     "output_type": "display_data"
    },
    {
     "data": {
      "text/plain": [
       "<matplotlib.figure.Figure at 0x110ed9a20>"
      ]
     },
     "metadata": {},
     "output_type": "display_data"
    },
    {
     "data": {
      "text/plain": [
       "<matplotlib.figure.Figure at 0x112643160>"
      ]
     },
     "metadata": {},
     "output_type": "display_data"
    },
    {
     "data": {
      "text/plain": [
       "<matplotlib.figure.Figure at 0x11d374f60>"
      ]
     },
     "metadata": {},
     "output_type": "display_data"
    },
    {
     "data": {
      "text/plain": [
       "<matplotlib.figure.Figure at 0x111a0be10>"
      ]
     },
     "metadata": {},
     "output_type": "display_data"
    },
    {
     "data": {
      "text/plain": [
       "<matplotlib.figure.Figure at 0x111a0b470>"
      ]
     },
     "metadata": {},
     "output_type": "display_data"
    },
    {
     "data": {
      "text/plain": [
       "<matplotlib.figure.Figure at 0x110365438>"
      ]
     },
     "metadata": {},
     "output_type": "display_data"
    },
    {
     "data": {
      "text/plain": [
       "<matplotlib.figure.Figure at 0x112607400>"
      ]
     },
     "metadata": {},
     "output_type": "display_data"
    },
    {
     "data": {
      "text/plain": [
       "<matplotlib.figure.Figure at 0x110eaa668>"
      ]
     },
     "metadata": {},
     "output_type": "display_data"
    },
    {
     "data": {
      "text/plain": [
       "<matplotlib.figure.Figure at 0x11262fc18>"
      ]
     },
     "metadata": {},
     "output_type": "display_data"
    },
    {
     "data": {
      "text/plain": [
       "<matplotlib.figure.Figure at 0x111a334e0>"
      ]
     },
     "metadata": {},
     "output_type": "display_data"
    },
    {
     "data": {
      "text/plain": [
       "<matplotlib.figure.Figure at 0x1126295f8>"
      ]
     },
     "metadata": {},
     "output_type": "display_data"
    },
    {
     "data": {
      "text/plain": [
       "<matplotlib.figure.Figure at 0x11256bb00>"
      ]
     },
     "metadata": {},
     "output_type": "display_data"
    },
    {
     "data": {
      "text/plain": [
       "<matplotlib.figure.Figure at 0x111a78c18>"
      ]
     },
     "metadata": {},
     "output_type": "display_data"
    },
    {
     "data": {
      "text/plain": [
       "<matplotlib.figure.Figure at 0x10e9667b8>"
      ]
     },
     "metadata": {},
     "output_type": "display_data"
    },
    {
     "data": {
      "text/plain": [
       "<matplotlib.figure.Figure at 0x10f780358>"
      ]
     },
     "metadata": {},
     "output_type": "display_data"
    },
    {
     "data": {
      "text/plain": [
       "<matplotlib.figure.Figure at 0x1102f3128>"
      ]
     },
     "metadata": {},
     "output_type": "display_data"
    },
    {
     "data": {
      "text/plain": [
       "<matplotlib.figure.Figure at 0x11199a4e0>"
      ]
     },
     "metadata": {},
     "output_type": "display_data"
    },
    {
     "data": {
      "text/plain": [
       "<matplotlib.figure.Figure at 0x11c898908>"
      ]
     },
     "metadata": {},
     "output_type": "display_data"
    },
    {
     "data": {
      "text/plain": [
       "<matplotlib.figure.Figure at 0x12ecffc18>"
      ]
     },
     "metadata": {},
     "output_type": "display_data"
    },
    {
     "data": {
      "text/plain": [
       "<matplotlib.figure.Figure at 0x1209b6240>"
      ]
     },
     "metadata": {},
     "output_type": "display_data"
    },
    {
     "data": {
      "text/plain": [
       "<matplotlib.figure.Figure at 0x1102eef60>"
      ]
     },
     "metadata": {},
     "output_type": "display_data"
    },
    {
     "data": {
      "text/plain": [
       "<matplotlib.figure.Figure at 0x1209b68d0>"
      ]
     },
     "metadata": {},
     "output_type": "display_data"
    },
    {
     "data": {
      "text/plain": [
       "<matplotlib.figure.Figure at 0x111981198>"
      ]
     },
     "metadata": {},
     "output_type": "display_data"
    },
    {
     "data": {
      "text/plain": [
       "<matplotlib.figure.Figure at 0x13233f1d0>"
      ]
     },
     "metadata": {},
     "output_type": "display_data"
    },
    {
     "data": {
      "text/plain": [
       "<matplotlib.figure.Figure at 0x10eaafb70>"
      ]
     },
     "metadata": {},
     "output_type": "display_data"
    },
    {
     "data": {
      "text/plain": [
       "<matplotlib.figure.Figure at 0x10eab42e8>"
      ]
     },
     "metadata": {},
     "output_type": "display_data"
    },
    {
     "data": {
      "text/plain": [
       "<matplotlib.figure.Figure at 0x13231fb38>"
      ]
     },
     "metadata": {},
     "output_type": "display_data"
    },
    {
     "data": {
      "text/plain": [
       "<matplotlib.figure.Figure at 0x112639c50>"
      ]
     },
     "metadata": {},
     "output_type": "display_data"
    },
    {
     "data": {
      "text/plain": [
       "<matplotlib.figure.Figure at 0x1102a15f8>"
      ]
     },
     "metadata": {},
     "output_type": "display_data"
    },
    {
     "data": {
      "text/plain": [
       "<matplotlib.figure.Figure at 0x14722be48>"
      ]
     },
     "metadata": {},
     "output_type": "display_data"
    },
    {
     "data": {
      "text/plain": [
       "<matplotlib.figure.Figure at 0x112571898>"
      ]
     },
     "metadata": {},
     "output_type": "display_data"
    },
    {
     "data": {
      "text/plain": [
       "<matplotlib.figure.Figure at 0x10eab4da0>"
      ]
     },
     "metadata": {},
     "output_type": "display_data"
    },
    {
     "data": {
      "text/plain": [
       "<matplotlib.figure.Figure at 0x111abca20>"
      ]
     },
     "metadata": {},
     "output_type": "display_data"
    },
    {
     "data": {
      "text/plain": [
       "<matplotlib.figure.Figure at 0x110eb8748>"
      ]
     },
     "metadata": {},
     "output_type": "display_data"
    },
    {
     "data": {
      "text/plain": [
       "<matplotlib.figure.Figure at 0x10eb766a0>"
      ]
     },
     "metadata": {},
     "output_type": "display_data"
    },
    {
     "data": {
      "text/plain": [
       "<matplotlib.figure.Figure at 0x11030e630>"
      ]
     },
     "metadata": {},
     "output_type": "display_data"
    },
    {
     "data": {
      "text/plain": [
       "<matplotlib.figure.Figure at 0x11030ef98>"
      ]
     },
     "metadata": {},
     "output_type": "display_data"
    },
    {
     "data": {
      "text/plain": [
       "<matplotlib.figure.Figure at 0x1103636d8>"
      ]
     },
     "metadata": {},
     "output_type": "display_data"
    },
    {
     "data": {
      "text/plain": [
       "<matplotlib.figure.Figure at 0x11d33d470>"
      ]
     },
     "metadata": {},
     "output_type": "display_data"
    },
    {
     "data": {
      "text/plain": [
       "<matplotlib.figure.Figure at 0x111a114a8>"
      ]
     },
     "metadata": {},
     "output_type": "display_data"
    },
    {
     "data": {
      "text/plain": [
       "<matplotlib.figure.Figure at 0x10eac4160>"
      ]
     },
     "metadata": {},
     "output_type": "display_data"
    },
    {
     "data": {
      "text/plain": [
       "<matplotlib.figure.Figure at 0x1209c1748>"
      ]
     },
     "metadata": {},
     "output_type": "display_data"
    },
    {
     "data": {
      "text/plain": [
       "<matplotlib.figure.Figure at 0x111a10a90>"
      ]
     },
     "metadata": {},
     "output_type": "display_data"
    },
    {
     "data": {
      "text/plain": [
       "<matplotlib.figure.Figure at 0x110323978>"
      ]
     },
     "metadata": {},
     "output_type": "display_data"
    },
    {
     "data": {
      "text/plain": [
       "<matplotlib.figure.Figure at 0x10eb5b860>"
      ]
     },
     "metadata": {},
     "output_type": "display_data"
    },
    {
     "data": {
      "text/plain": [
       "<matplotlib.figure.Figure at 0x111986b70>"
      ]
     },
     "metadata": {},
     "output_type": "display_data"
    },
    {
     "data": {
      "text/plain": [
       "<matplotlib.figure.Figure at 0x1102f3390>"
      ]
     },
     "metadata": {},
     "output_type": "display_data"
    },
    {
     "data": {
      "text/plain": [
       "<matplotlib.figure.Figure at 0x13232f2e8>"
      ]
     },
     "metadata": {},
     "output_type": "display_data"
    },
    {
     "data": {
      "text/plain": [
       "<matplotlib.figure.Figure at 0x1125e3c50>"
      ]
     },
     "metadata": {},
     "output_type": "display_data"
    },
    {
     "data": {
      "text/plain": [
       "<matplotlib.figure.Figure at 0x14dec8160>"
      ]
     },
     "metadata": {},
     "output_type": "display_data"
    },
    {
     "data": {
      "text/plain": [
       "<matplotlib.figure.Figure at 0x10e98de10>"
      ]
     },
     "metadata": {},
     "output_type": "display_data"
    },
    {
     "data": {
      "text/plain": [
       "<matplotlib.figure.Figure at 0x11c89c550>"
      ]
     },
     "metadata": {},
     "output_type": "display_data"
    },
    {
     "data": {
      "text/plain": [
       "<matplotlib.figure.Figure at 0x11257b240>"
      ]
     },
     "metadata": {},
     "output_type": "display_data"
    },
    {
     "data": {
      "text/plain": [
       "<matplotlib.figure.Figure at 0x1125ee6a0>"
      ]
     },
     "metadata": {},
     "output_type": "display_data"
    },
    {
     "data": {
      "text/plain": [
       "<matplotlib.figure.Figure at 0x12b6aa860>"
      ]
     },
     "metadata": {},
     "output_type": "display_data"
    },
    {
     "data": {
      "text/plain": [
       "<matplotlib.figure.Figure at 0x110edc208>"
      ]
     },
     "metadata": {},
     "output_type": "display_data"
    },
    {
     "data": {
      "text/plain": [
       "<matplotlib.figure.Figure at 0x12b6aaf98>"
      ]
     },
     "metadata": {},
     "output_type": "display_data"
    },
    {
     "data": {
      "text/plain": [
       "<matplotlib.figure.Figure at 0x11030e2b0>"
      ]
     },
     "metadata": {},
     "output_type": "display_data"
    },
    {
     "data": {
      "text/plain": [
       "<matplotlib.figure.Figure at 0x111a41a90>"
      ]
     },
     "metadata": {},
     "output_type": "display_data"
    },
    {
     "data": {
      "text/plain": [
       "<matplotlib.figure.Figure at 0x111a416d8>"
      ]
     },
     "metadata": {},
     "output_type": "display_data"
    },
    {
     "data": {
      "text/plain": [
       "<matplotlib.figure.Figure at 0x10f697fd0>"
      ]
     },
     "metadata": {},
     "output_type": "display_data"
    },
    {
     "data": {
      "text/plain": [
       "<matplotlib.figure.Figure at 0x11c8a8048>"
      ]
     },
     "metadata": {},
     "output_type": "display_data"
    },
    {
     "data": {
      "text/plain": [
       "<matplotlib.figure.Figure at 0x110e069e8>"
      ]
     },
     "metadata": {},
     "output_type": "display_data"
    },
    {
     "data": {
      "text/plain": [
       "<matplotlib.figure.Figure at 0x110e06f60>"
      ]
     },
     "metadata": {},
     "output_type": "display_data"
    },
    {
     "data": {
      "text/plain": [
       "<matplotlib.figure.Figure at 0x111a5c1d0>"
      ]
     },
     "metadata": {},
     "output_type": "display_data"
    },
    {
     "data": {
      "text/plain": [
       "<matplotlib.figure.Figure at 0x11198a588>"
      ]
     },
     "metadata": {},
     "output_type": "display_data"
    },
    {
     "data": {
      "text/plain": [
       "<matplotlib.figure.Figure at 0x1209c19b0>"
      ]
     },
     "metadata": {},
     "output_type": "display_data"
    },
    {
     "data": {
      "text/plain": [
       "<matplotlib.figure.Figure at 0x14722b3c8>"
      ]
     },
     "metadata": {},
     "output_type": "display_data"
    },
    {
     "data": {
      "text/plain": [
       "<matplotlib.figure.Figure at 0x14dec8940>"
      ]
     },
     "metadata": {},
     "output_type": "display_data"
    },
    {
     "data": {
      "text/plain": [
       "<matplotlib.figure.Figure at 0x11d368eb8>"
      ]
     },
     "metadata": {},
     "output_type": "display_data"
    }
   ],
   "source": [
    "for ii in range(len(df_prop_meta)):\n",
    "    #if ii != 125: continue\n",
    "    meta_row = df_prop_meta.iloc[ii]\n",
    "\n",
    "\n",
    "    # get the proposition metadata\n",
    "    prop_descr  = meta_row['Description']\n",
    "    prop_date = meta_row.name[0]\n",
    "    prop_name = meta_row.name[1]\n",
    "    elec_type = meta_row['Election_type']\n",
    "    reg_date = meta_row['nearest_reg_date']\n",
    "\n",
    "    # grab the voter registration data and proposition voting results\n",
    "    # make sure to drop the state results rows for plots and calcs\n",
    "    vote_yes = df_prop.loc[df_prop.index != 'State Totals',idx[prop_date,prop_name,'Yes']]\n",
    "    vote_no = df_prop.loc[df_prop.index != 'State Totals',idx[prop_date,prop_name,'No']]\n",
    "    yes_no_asym = (vote_yes-vote_no)/(vote_yes+vote_no)\n",
    "    reg_dem = df_reg.loc[idx[:,'Count'],idx[reg_date,'Democratic']].drop('State Total')\n",
    "    reg_rep = df_reg.loc[idx[:,'Count'],idx[reg_date,'Republican']].drop('State Total')\n",
    "    rep_dem_asym = (reg_rep-reg_dem)/(reg_rep+reg_dem)\n",
    "    reg_frac = df_reg.loc[idx[:,'Fraction'],idx[reg_date,'Total Registered']].drop('State Total')\n",
    "    reg_tot = df_reg.loc[idx[:,'Count'],idx[reg_date,'Total Registered']].drop('State Total')\n",
    "    elg_tot = df_reg.loc[idx[:,'Count'],idx[reg_date,'Eligible']].drop('State Total')\n",
    "    elg_norm = 1+(elg_tot - elg_tot.min())/ (elg_tot.max()-elg_tot.min())\n",
    "    non_trad_party = (reg_tot - (reg_dem + reg_rep))/reg_tot\n",
    "    vote_yes_state = df_prop.loc['State Totals',idx[prop_date,prop_name,'Yes']]\n",
    "    vote_no_state = df_prop.loc['State Totals',idx[prop_date,prop_name,'No']]\n",
    "    yes_no_asym_state = (vote_yes_state-vote_no_state)/(vote_yes_state+vote_no_state)\n",
    "    reg_dem_state = df_reg.loc[idx['State Total','Count'],idx[reg_date,'Democratic']]\n",
    "    reg_rep_state = df_reg.loc[idx['State Total','Count'],idx[reg_date,'Republican']]\n",
    "    rep_dem_asym_state = (reg_rep_state-reg_dem_state)/(reg_rep_state+reg_dem_state)\n",
    "    df_prop_meta.loc[idx[prop_date,prop_name],'std'] = yes_no_asym.std()\n",
    "    \n",
    "    # fit a line\n",
    "    model_OLS = lm.LinearRegression()\n",
    "    model_OLS.fit(rep_dem_asym.values.reshape(-1,1),yes_no_asym)\n",
    "    X_line = np.linspace(1.1*rep_dem_asym.min(),1.1*rep_dem_asym.max(),num=20).reshape(-1,1)\n",
    "    y_OLS = model_OLS.predict(X_line)\n",
    "    R2 = model_OLS.score(rep_dem_asym.values.reshape(-1,1),yes_no_asym)\n",
    "    df_prop_meta.loc[idx[prop_date,prop_name],'R2'] = R2\n",
    "    \n",
    "    # find oultliers using interquartile range of the residuals distribution\n",
    "    resid = yes_no_asym - model_OLS.predict(rep_dem_asym.values.reshape(-1,1))\n",
    "    resid_standardized = pd.Series(preproc.scale(resid),index = resid.index)\n",
    "    resid_standardized['State Totals'] = 0\n",
    "    df_prop.loc[:,idx[prop_date,prop_name,'residual']] = resid_standardized\n",
    "    Q1, Q3 = np.percentile(resid,[25,75])\n",
    "    IQR = Q3 - Q1\n",
    "    lo_thresh, hi_thresh = Q1 - 1.5*IQR, Q3 + 1.5*IQR\n",
    "    is_outlier = (resid < lo_thresh) | (resid > hi_thresh)\n",
    "    edgecolors = np.array(['k']*len(is_outlier))\n",
    "    edgecolors[is_outlier.values] = 'r'\n",
    "    outliers = is_outlier[is_outlier].index.values\n",
    "    outliers_str = ', '.join([outlier for outlier in outliers])\n",
    "    df_prop_meta.loc[idx[prop_date,prop_name],'outliers'] = outliers_str\n",
    "    df_prop_meta.loc[idx[prop_date,prop_name],'num_outliers'] = len(outliers)\n",
    "    is_outlier['State Totals'] = False\n",
    "    df_prop.loc[:,idx[prop_date,prop_name,'is_outlier']] = is_outlier\n",
    "    \n",
    "    \n",
    "    # show the line and scatter-plot\n",
    "    plt.figure(figsize=(8, 6), dpi= 240)\n",
    "    plt.plot(X_line,y_OLS,alpha=0.7,color='k')\n",
    "    plt.plot(X_line,y_OLS+Q3+1.5*IQR,alpha=0.7,color='grey',linestyle='--')\n",
    "    plt.plot(X_line,y_OLS+Q1-1.5*IQR,alpha=0.7,color='grey',linestyle='--')\n",
    "    plt.plot([-1,1],[yes_no_asym_state]*2,alpha=0.3,color='blue',linestyle='--')\n",
    "    h_scatter = plt.scatter(rep_dem_asym,yes_no_asym,marker='o',c=non_trad_party,s=40*elg_norm**4,\n",
    "                cmap=plt.get_cmap('Purples'),alpha=0.7,edgecolor=edgecolors)\n",
    "    plt.scatter(rep_dem_asym_state, yes_no_asym_state, c='blue', marker='+')\n",
    "    plt.title(str(prop_date.year) + ': ' + prop_name + '\\n' + prop_descr)\n",
    "    plt.xlabel('<---Dem            Rep--->')\n",
    "    plt.ylabel('<---No         Yes--->')\n",
    "    if len(outliers) > 0:\n",
    "        text_str = '$R^2 = ${:.2f}\\noutliers = {:s}'.format(R2,outliers_str)\n",
    "    else:\n",
    "        text_str = '$R^2 = ${:.2f}'.format(R2)\n",
    "    plt.text(x=.95,y=.95,s=text_str,ha='right',va='top')\n",
    "    plt.xlim([-1,1])\n",
    "    plt.ylim([-1,1])\n",
    "    cbar = plt.colorbar(mappable=h_scatter,pad=0.02)\n",
    "    cbar.ax.set_ylabel('Fraction of registered voters in non-Dem,Rep party')\n",
    "    plt.savefig('plots/'+str(prop_date.year)+'-'+prop_name+'.png')\n",
    "    plt.clf()\n",
    "    \n",
    "df_prop.sort_index(axis=1,level=[0,1,2],inplace=True)\n",
    "df_prop_meta.sort_index(axis=1,level=1,inplace=True)"
   ]
  },
  {
   "cell_type": "markdown",
   "metadata": {},
   "source": [
    "![caption](plots/2016-Proposition_63.png)"
   ]
  },
  {
   "cell_type": "markdown",
   "metadata": {},
   "source": [
    "![caption](plots/2012-Proposition_30.png)"
   ]
  },
  {
   "cell_type": "markdown",
   "metadata": {},
   "source": [
    "![caption](plots/2010-Proposition_13.png)"
   ]
  },
  {
   "cell_type": "code",
   "execution_count": 11,
   "metadata": {},
   "outputs": [
    {
     "data": {
      "text/plain": [
       "<matplotlib.collections.PathCollection at 0x1102f64e0>"
      ]
     },
     "execution_count": 11,
     "metadata": {},
     "output_type": "execute_result"
    },
    {
     "data": {
      "image/png": "[encoded data removed]",
      "text/plain": [
       "<matplotlib.figure.Figure at 0x10e9f52b0>"
      ]
     },
     "metadata": {},
     "output_type": "display_data"
    }
   ],
   "source": [
    "df_prop_meta['Descr_has_tax'] = df_prop_meta['Description'].map(lambda x: 'Tax' in x or 'tax' in x)\n",
    "x1 = df_prop_meta.loc[df_prop_meta['Descr_has_tax'],'std']\n",
    "y1 = df_prop_meta.loc[df_prop_meta['Descr_has_tax'],'R2']\n",
    "x2 = df_prop_meta.loc[~df_prop_meta['Descr_has_tax'],'std']\n",
    "y2 = df_prop_meta.loc[~df_prop_meta['Descr_has_tax'],'R2']\n",
    "plt.scatter(x1,y1,alpha=0.8)\n",
    "plt.scatter(x2,y2,alpha=0.5)\n"
   ]
  },
  {
   "cell_type": "code",
   "execution_count": 12,
   "metadata": {},
   "outputs": [
    {
     "data": {
      "text/plain": [
       "<matplotlib.collections.PathCollection at 0x1102a30f0>"
      ]
     },
     "execution_count": 12,
     "metadata": {},
     "output_type": "execute_result"
    },
    {
     "data": {
      "image/png": "[encoded data removed]",
      "text/plain": [
       "<matplotlib.figure.Figure at 0x10f7b3320>"
      ]
     },
     "metadata": {},
     "output_type": "display_data"
    }
   ],
   "source": [
    "df_prop_meta['Descr_has_school'] = df_prop_meta['Description'].map(lambda x:\n",
    "                                                                   'school' in x or\n",
    "                                                                   'School' in x or\n",
    "                                                                   'education' in x or\n",
    "                                                                   'Education' in x or \n",
    "                                                                   'College' in x or \n",
    "                                                                   'college' in x or \n",
    "                                                                   'universit' in x or \n",
    "                                                                   'Universit' in x)\n",
    "x1 = df_prop_meta.loc[df_prop_meta['Descr_has_school'],'std']\n",
    "y1 = df_prop_meta.loc[df_prop_meta['Descr_has_school'],'R2']\n",
    "x2 = df_prop_meta.loc[~df_prop_meta['Descr_has_school'],'std']\n",
    "y2 = df_prop_meta.loc[~df_prop_meta['Descr_has_school'],'R2']\n",
    "plt.scatter(x1,y1,alpha=0.8)\n",
    "plt.scatter(x2,y2,alpha=0.5)"
   ]
  },
  {
   "cell_type": "code",
   "execution_count": 13,
   "metadata": {},
   "outputs": [
    {
     "data": {
      "text/plain": [
       "<matplotlib.collections.PathCollection at 0x110edc860>"
      ]
     },
     "execution_count": 13,
     "metadata": {},
     "output_type": "execute_result"
    },
    {
     "data": {
      "image/png": "[encoded data removed]",
      "text/plain": [
       "<matplotlib.figure.Figure at 0x11034ca20>"
      ]
     },
     "metadata": {},
     "output_type": "display_data"
    }
   ],
   "source": [
    "df_prop_meta['Descr_has_water'] = df_prop_meta['Description'].map(lambda x:\n",
    "                                                                       'Water' in x or\n",
    "                                                                       'water' in x)\n",
    "x1 = df_prop_meta.loc[df_prop_meta['Descr_has_water'],'std']\n",
    "y1 = df_prop_meta.loc[df_prop_meta['Descr_has_water'],'R2']\n",
    "x2 = df_prop_meta.loc[~df_prop_meta['Descr_has_water'],'std']\n",
    "y2 = df_prop_meta.loc[~df_prop_meta['Descr_has_water'],'R2']\n",
    "plt.scatter(x1,y1,alpha=0.8)\n",
    "plt.scatter(x2,y2,alpha=0.5)"
   ]
  },
  {
   "cell_type": "code",
   "execution_count": 14,
   "metadata": {},
   "outputs": [
    {
     "data": {
      "text/plain": [
       "<matplotlib.collections.PathCollection at 0x12b6c1ac8>"
      ]
     },
     "execution_count": 14,
     "metadata": {},
     "output_type": "execute_result"
    },
    {
     "data": {
      "image/png": "[encoded data removed]",
      "text/plain": [
       "<matplotlib.figure.Figure at 0x11d345fd0>"
      ]
     },
     "metadata": {},
     "output_type": "display_data"
    }
   ],
   "source": [
    "df_prop_meta['Descr_has_gun'] = df_prop_meta['Description'].map(lambda x:\n",
    "                                                                       'Gun' in x or\n",
    "                                                                       'gun' in x or\n",
    "                                                                   'firearm' in x or\n",
    "                                                                   'Firearm' in x or\n",
    "                                                                    'Weapon' in x or\n",
    "                                                                    'weapon' in x)\n",
    "x1 = df_prop_meta.loc[df_prop_meta['Descr_has_gun'],'std']\n",
    "y1 = df_prop_meta.loc[df_prop_meta['Descr_has_gun'],'R2']\n",
    "x2 = df_prop_meta.loc[~df_prop_meta['Descr_has_gun'],'std']\n",
    "y2 = df_prop_meta.loc[~df_prop_meta['Descr_has_gun'],'R2']\n",
    "plt.scatter(x1,y1,alpha=0.8)\n",
    "plt.scatter(x2,y2,alpha=0.5)"
   ]
  },
  {
   "cell_type": "code",
   "execution_count": 18,
   "metadata": {},
   "outputs": [
    {
     "data": {
      "text/plain": [
       "<matplotlib.axes._subplots.AxesSubplot at 0x1514de710>"
      ]
     },
     "execution_count": 18,
     "metadata": {},
     "output_type": "execute_result"
    },
    {
     "data": {
      "image/png": "[encoded data removed]",
      "text/plain": [
       "<matplotlib.figure.Figure at 0x10eb475f8>"
      ]
     },
     "metadata": {},
     "output_type": "display_data"
    }
   ],
   "source": [
    "plt.figure(figsize=(10, 12))\n",
    "df_prop.sort_index(axis=1,level=[0,1,2],inplace=True)\n",
    "np.abs(df_prop.loc[df_prop.index != 'State Totals',\n",
    "                   idx[:,:,'residual']]).T.mean().sort_values(ascending=False).plot(kind='barh')\n",
    "plt.title('Mean residual ')"
   ]
  },
  {
   "cell_type": "code",
   "execution_count": 19,
   "metadata": {},
   "outputs": [
    {
     "data": {
      "text/plain": [
       "<matplotlib.axes._subplots.AxesSubplot at 0x14de5be80>"
      ]
     },
     "execution_count": 19,
     "metadata": {},
     "output_type": "execute_result"
    },
    {
     "data": {
      "image/png": "[encoded data removed]",
      "text/plain": [
       "<matplotlib.figure.Figure at 0x14de5dd68>"
      ]
     },
     "metadata": {},
     "output_type": "display_data"
    }
   ],
   "source": [
    "plt.figure(figsize=(10, 12))\n",
    "(df_prop.loc[df_prop.index != 'State Totals',idx[:,:,'is_outlier']]).T.sum().sort_values(ascending=False).plot(kind = 'barh')"
   ]
  },
  {
   "cell_type": "code",
   "execution_count": null,
   "metadata": {
    "collapsed": true
   },
   "outputs": [],
   "source": []
  }
 ],
 "metadata": {
  "kernelspec": {
   "display_name": "Python 3",
   "language": "python",
   "name": "python3"
  },
  "language_info": {
   "codemirror_mode": {
    "name": "ipython",
    "version": 3
   },
   "file_extension": ".py",
   "mimetype": "text/x-python",
   "name": "python",
   "nbconvert_exporter": "python",
   "pygments_lexer": "ipython3",
   "version": "3.4.7"
  }
 },
 "nbformat": 4,
 "nbformat_minor": 2
}
